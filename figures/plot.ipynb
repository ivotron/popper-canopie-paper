{
  "nbformat": 4,
  "nbformat_minor": 0,
  "metadata": {
    "colab": {
      "name": "tryingoutseaborn.ipynb",
      "provenance": [],
      "collapsed_sections": []
    },
    "kernelspec": {
      "name": "python3",
      "display_name": "Python 3"
    }
  },
  "cells": [
    {
      "cell_type": "code",
      "metadata": {
        "id": "d0fVVLmCazo8",
        "colab_type": "code",
        "colab": {}
      },
      "source": [
        "import numpy as np\n",
        "import pandas as pd\n",
        "import seaborn as sns\n",
        "import matplotlib.pyplot as plt"
      ],
      "execution_count": 109,
      "outputs": []
    },
    {
      "cell_type": "code",
      "metadata": {
        "id": "1ZzISvara4DT",
        "colab_type": "code",
        "colab": {}
      },
      "source": [
        "sns.set(style=\"whitegrid\")"
      ],
      "execution_count": 110,
      "outputs": []
    },
    {
      "cell_type": "code",
      "metadata": {
        "id": "BRjoahvJbY5J",
        "colab_type": "code",
        "colab": {}
      },
      "source": [
        "df = pd.DataFrame(np.array([[4035, 'local'], [4023, 'local'], [4036, 'local'], [4021, 'local'], [4056, 'local'], [1194, 'kubernetes'], [965, 'kubernetes'], [1021, 'kubernetes'], [894, 'kubernetes'], [934, 'kubernetes'], [234, 'slurm'], [262, 'slurm'], [253, 'slurm'], [201, 'slurm'], [224, 'slurm']]), columns=['duration', 'environment'])"
      ],
      "execution_count": 111,
      "outputs": []
    },
    {
      "cell_type": "code",
      "metadata": {
        "id": "WIPOURhjbj7Q",
        "colab_type": "code",
        "colab": {}
      },
      "source": [
        "df[['duration']] = df[['duration']].apply(pd.to_numeric) "
      ],
      "execution_count": 112,
      "outputs": []
    },
    {
      "cell_type": "code",
      "metadata": {
        "id": "eMo23BoklQKg",
        "colab_type": "code",
        "colab": {
          "base_uri": "https://localhost:8080/",
          "height": 170
        },
        "outputId": "53805e66-142c-4911-bb82-c81f127e3ec0"
      },
      "source": [
        "df.info()"
      ],
      "execution_count": 113,
      "outputs": [
        {
          "output_type": "stream",
          "text": [
            "<class 'pandas.core.frame.DataFrame'>\n",
            "RangeIndex: 15 entries, 0 to 14\n",
            "Data columns (total 2 columns):\n",
            " #   Column       Non-Null Count  Dtype \n",
            "---  ------       --------------  ----- \n",
            " 0   duration     15 non-null     int64 \n",
            " 1   environment  15 non-null     object\n",
            "dtypes: int64(1), object(1)\n",
            "memory usage: 368.0+ bytes\n"
          ],
          "name": "stdout"
        }
      ]
    },
    {
      "cell_type": "code",
      "metadata": {
        "id": "C4ajKpazcnln",
        "colab_type": "code",
        "colab": {
          "base_uri": "https://localhost:8080/",
          "height": 285
        },
        "outputId": "d29f5945-f667-48f9-d597-c8b82a320fc2"
      },
      "source": [
        "ax = sns.barplot(x=\"environment\", y=\"duration\", data=df)"
      ],
      "execution_count": 114,
      "outputs": [
        {
          "output_type": "display_data",
          "data": {
            "image/png": "[encoded data removed]",
            "text/plain": [
              "<Figure size 432x288 with 1 Axes>"
            ]
          },
          "metadata": {
            "tags": []
          }
        }
      ]
    },
    {
      "cell_type": "code",
      "metadata": {
        "id": "-tvAVQ6UoT9L",
        "colab_type": "code",
        "colab": {}
      },
      "source": [
        "ax.figure.savefig(\"plot.png\", dpi=200)"
      ],
      "execution_count": 115,
      "outputs": []
    }
  ]
}