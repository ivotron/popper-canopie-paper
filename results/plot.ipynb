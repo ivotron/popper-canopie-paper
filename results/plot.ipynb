{
 "cells": [
  {
   "cell_type": "code",
   "execution_count": 1,
   "metadata": {
    "colab": {},
    "colab_type": "code",
    "id": "d0fVVLmCazo8"
   },
   "outputs": [],
   "source": [
    "import json\n",
    "import numpy as np\n",
    "import pandas as pd\n",
    "import seaborn as sns\n",
    "import matplotlib.pyplot as plt"
   ]
  },
  {
   "cell_type": "code",
   "execution_count": 2,
   "metadata": {
    "colab": {},
    "colab_type": "code",
    "id": "1ZzISvara4DT"
   },
   "outputs": [],
   "source": [
    "sns.set(style=\"whitegrid\")"
   ]
  },
  {
   "cell_type": "code",
   "execution_count": 4,
   "metadata": {},
   "outputs": [
    {
     "name": "stdout",
     "output_type": "stream",
     "text": [
      "{'local': [4035.0, 4023.0, 4036.0, 4021.0, 4056.0], 'kubernetes': [1194.0, 965.0, 1021.0, 894.0, 934.0], 'slurm': [234.0, 262.0, 253.0, 201.0, 224.0]}\n"
     ]
    }
   ],
   "source": [
    "data = {}\n",
    "\n",
    "result_file_paths = {\"local\": \"./local\", \"kubernetes\": \"./kubernetes\", \"slurm\": \"./slurm\"}\n",
    "for env, result_file_path in result_file_paths.items():\n",
    "    with open(result_file_path, 'r') as f:\n",
    "        arr = f.readlines()\n",
    "        arr = [float(val) for val in arr]\n",
    "        data[env] = arr\n",
    "        \n",
    "print(data)"
   ]
  },
  {
   "cell_type": "code",
   "execution_count": 5,
   "metadata": {
    "colab": {},
    "colab_type": "code",
    "id": "BRjoahvJbY5J"
   },
   "outputs": [],
   "source": [
    "arr = []\n",
    "\n",
    "for mode, values in data.items():\n",
    "    for v in values:\n",
    "        arr.append([v, mode])\n",
    "\n",
    "df = pd.DataFrame(np.array(arr), columns=['duration', 'environment'])"
   ]
  },
  {
   "cell_type": "code",
   "execution_count": 6,
   "metadata": {
    "colab": {},
    "colab_type": "code",
    "id": "WIPOURhjbj7Q"
   },
   "outputs": [],
   "source": [
    "df[['duration']] = df[['duration']].apply(pd.to_numeric) "
   ]
  },
  {
   "cell_type": "code",
   "execution_count": 7,
   "metadata": {
    "colab": {
     "base_uri": "https://localhost:8080/",
     "height": 170
    },
    "colab_type": "code",
    "id": "eMo23BoklQKg",
    "outputId": "53805e66-142c-4911-bb82-c81f127e3ec0"
   },
   "outputs": [
    {
     "name": "stdout",
     "output_type": "stream",
     "text": [
      "<class 'pandas.core.frame.DataFrame'>\n",
      "RangeIndex: 15 entries, 0 to 14\n",
      "Data columns (total 2 columns):\n",
      " #   Column       Non-Null Count  Dtype  \n",
      "---  ------       --------------  -----  \n",
      " 0   duration     15 non-null     float64\n",
      " 1   environment  15 non-null     object \n",
      "dtypes: float64(1), object(1)\n",
      "memory usage: 368.0+ bytes\n"
     ]
    }
   ],
   "source": [
    "df.info()"
   ]
  },
  {
   "cell_type": "code",
   "execution_count": 8,
   "metadata": {
    "colab": {
     "base_uri": "https://localhost:8080/",
     "height": 285
    },
    "colab_type": "code",
    "id": "C4ajKpazcnln",
    "outputId": "d29f5945-f667-48f9-d597-c8b82a320fc2"
   },
   "outputs": [
    {
     "data": {
      "text/plain": [
       "Text(0, 0.5, 'Duration (s)')"
      ]
     },
     "execution_count": 8,
     "metadata": {},
     "output_type": "execute_result"
    },
    {
     "data": {
      "image/png": "[encoded data removed]",
      "text/plain": [
       "<Figure size 432x288 with 1 Axes>"
      ]
     },
     "metadata": {},
     "output_type": "display_data"
    }
   ],
   "source": [
    "ax = sns.barplot(x=\"environment\", y=\"duration\", data=df)\n",
    "plt.xlabel(\"Environment\")\n",
    "plt.ylabel(\"Duration (s)\")"
   ]
  },
  {
   "cell_type": "code",
   "execution_count": 9,
   "metadata": {
    "colab": {},
    "colab_type": "code",
    "id": "-tvAVQ6UoT9L"
   },
   "outputs": [],
   "source": [
    "ax.figure.savefig(\"../paper/figures/plot.png\", dpi=200)"
   ]
  }
 ],
 "metadata": {
  "colab": {
   "collapsed_sections": [],
   "name": "tryingoutseaborn.ipynb",
   "provenance": []
  },
  "kernelspec": {
   "display_name": "Python 3",
   "language": "python",
   "name": "python3"
  },
  "language_info": {
   "codemirror_mode": {
    "name": "ipython",
    "version": 3
   },
   "file_extension": ".py",
   "mimetype": "text/x-python",
   "name": "python",
   "nbconvert_exporter": "python",
   "pygments_lexer": "ipython3",
   "version": "3.8.5"
  }
 },
 "nbformat": 4,
 "nbformat_minor": 1
}
